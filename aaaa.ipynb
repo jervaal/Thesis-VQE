{
 "cells": [
  {
   "cell_type": "code",
   "execution_count": 1,
   "metadata": {},
   "outputs": [],
   "source": [
    "import numpy as np\n",
    "\n",
    "from qiskit.quantum_info import DensityMatrix, Statevector, partial_trace, entanglement_of_formation\n",
    "from qiskit.circuit import QuantumCircuit\n",
    "\n",
    "import itertools\n",
    "\n",
    "\n",
    "#@jit\n",
    "def Bipartite_Negativity(rho ):\n",
    "    \n",
    "    matrix = rho.data\n",
    "    #print(matrix)\n",
    "    eigenvalues, eigenvectors = np.linalg.eig(matrix)\n",
    "\n",
    "    return sum([ ( np.abs(eigenvalue) - eigenvalue )/2 for eigenvalue in eigenvalues ])\n",
    "    \n",
    "    \n",
    "#@jit\n",
    "def Multipartite_Negativity(circuit : QuantumCircuit, mode='max' ):\n",
    "\n",
    "    #possible combinations: N choose 2\n",
    "    #because choosing ij = ji ---> \n",
    "    #calculate [(N Choose 2) / 2] possible outcomes\n",
    "    \n",
    "    qubits_list = circuit.qubits\n",
    "    rho = DensityMatrix(circuit)\n",
    "    \n",
    "    index_list = [qubit._index for qubit in qubits_list]\n",
    "\n",
    "    num_q = len(qubits_list)\n",
    "\n",
    "    negativity_dict = {}\n",
    "\n",
    "    if num_q == 2:\n",
    "        return Bipartite_Negativity(rho)\n",
    "\n",
    "    else:\n",
    "        qubits_list = circuit.qubits\n",
    "    \n",
    "        index_list = np.array([qubit._index for qubit in qubits_list])\n",
    "\n",
    "        negativity_matrix = np.zeros(shape= (num_q, num_q))\n",
    "\n",
    "        for qbit_indx1, ind_i in enumerate(index_list):\n",
    "            \n",
    "            for qbit_indx2, ind_j in enumerate(index_list[:ind_i]):\n",
    "                \n",
    "                qubit_trace_list =  [k for k in index_list if k not in (qbit_indx1, qbit_indx2)]\n",
    "                rho_p = partial_trace(rho, qubit_trace_list)\n",
    "\n",
    "                negativity_matrix[ind_i][ind_j] = Bipartite_Negativity(rho_p)\n",
    "    \n",
    "    if mode== 'max':\n",
    "        return negativity_matrix.max()\n",
    "    \n",
    "    elif mode== 'total':\n",
    "        return np.sum(negativity_matrix)\n"
   ]
  },
  {
   "cell_type": "code",
   "execution_count": 4,
   "metadata": {},
   "outputs": [
    {
     "name": "stdout",
     "output_type": "stream",
     "text": [
      "0.0\n"
     ]
    },
    {
     "name": "stderr",
     "output_type": "stream",
     "text": [
      "/tmp/ipykernel_7631/941773238.py:53: ComplexWarning: Casting complex values to real discards the imaginary part\n",
      "  negativity_matrix[ind_i][ind_j] = Bipartite_Negativity(rho_p)\n"
     ]
    }
   ],
   "source": [
    "\n",
    "qc = QuantumCircuit(4)\n",
    "qc.h(0)\n",
    "qc.cx(0, 1)\n",
    "qc.cx(1, 2)\n",
    "qc.cx(2, 3)\n",
    "\n",
    "r = DensityMatrix(qc)\n",
    "\n",
    "r.draw(output= 'latex')\n",
    "\n",
    "print(Multipartite_Negativity(qc, mode= 'total'))"
   ]
  },
  {
   "cell_type": "code",
   "execution_count": null,
   "metadata": {},
   "outputs": [],
   "source": []
  }
 ],
 "metadata": {
  "kernelspec": {
   "display_name": "vqe_venv",
   "language": "python",
   "name": "python3"
  },
  "language_info": {
   "codemirror_mode": {
    "name": "ipython",
    "version": 3
   },
   "file_extension": ".py",
   "mimetype": "text/x-python",
   "name": "python",
   "nbconvert_exporter": "python",
   "pygments_lexer": "ipython3",
   "version": "3.11.9"
  }
 },
 "nbformat": 4,
 "nbformat_minor": 2
}
