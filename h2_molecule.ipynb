{
 "cells": [
  {
   "cell_type": "code",
   "execution_count": 1,
   "metadata": {},
   "outputs": [],
   "source": [
    "from qiskit_nature.second_q.drivers import PySCFDriver\n",
    "from qiskit_nature.second_q.circuit.library import UCCSD, HartreeFock\n",
    "from qiskit_nature.second_q.mappers import JordanWignerMapper, ParityMapper\n",
    "import numpy as np\n",
    "from qiskit_algorithms import VQE\n",
    "from qiskit_algorithms.optimizers import SLSQP, COBYLA\n",
    "\n",
    "from qiskit.primitives import Estimator\n",
    "from qiskit_aer.primitives import EstimatorV2\n",
    "\n",
    "\n",
    "from qiskit_nature.second_q.transformers import FreezeCoreTransformer\n",
    "from qiskit.quantum_info import entropy\n"
   ]
  },
  {
   "cell_type": "markdown",
   "metadata": {},
   "source": [
    "# Initialize the hamiltonian problem"
   ]
  },
  {
   "cell_type": "code",
   "execution_count": 2,
   "metadata": {},
   "outputs": [],
   "source": [
    "\n",
    "#First we create the Hamiltonian as an observable of pauli matrices \n",
    "d= 0.7\n",
    "driver = PySCFDriver(atom=f\"H 0 0 0; H 0 0 {d}\", basis=\"sto-3g\")\n",
    "problem = driver.run()\n",
    "\n",
    "mapper = JordanWignerMapper()\n",
    "\n",
    "\n",
    "hamiltonian = problem.hamiltonian.second_q_op()\n",
    "pauli_hamiltonian = mapper.map(hamiltonian)\n",
    "\n",
    "\n",
    "#then we generate the Ansatz\n",
    "init_state = HartreeFock(problem.num_spatial_orbitals,\n",
    "                         problem.num_particles,\n",
    "                         mapper)\n",
    "\n",
    "ansatz = UCCSD(problem.num_spatial_orbitals,\n",
    "               problem.num_particles,\n",
    "               mapper,\n",
    "               initial_state= init_state)\n",
    "\n"
   ]
  },
  {
   "cell_type": "code",
   "execution_count": 3,
   "metadata": {},
   "outputs": [],
   "source": [
    "#from qiskit_aer.backends import \n",
    "#from qiskit.primitives import Estimator\n",
    "\n",
    "\n",
    "import numpy as np\n",
    "import pandas as pd\n",
    "import matplotlib.pyplot as plt\n",
    "from scipy.optimize import minimize\n",
    "\n",
    "from qiskit import QuantumCircuit\n",
    "from qiskit.quantum_info import SparsePauliOp\n",
    "from qiskit.circuit.library import RealAmplitudes\n",
    "from qiskit.transpiler.preset_passmanagers import generate_preset_pass_manager\n",
    "from qiskit.transpiler import InstructionProperties\n",
    "from qiskit.visualization import plot_distribution\n",
    "from qiskit.providers.fake_provider import GenericBackendV2\n",
    "from qiskit.primitives import StatevectorEstimator\n",
    "\n",
    "from qiskit_aer.primitives import EstimatorV2 as EstimatorAer\n",
    "\n",
    "from qiskit_aer import AerSimulator\n",
    "from qiskit_ibm_runtime import (\n",
    "    QiskitRuntimeService, \n",
    "    EstimatorV2,\n",
    "    SamplerV2 as Sampler,\n",
    "    EstimatorOptions\n",
    ")\n"
   ]
  },
  {
   "cell_type": "code",
   "execution_count": 4,
   "metadata": {},
   "outputs": [],
   "source": [
    "QiskitRuntimeService.save_account(\n",
    "    channel=\"ibm_quantum\",\n",
    "    token=\"c969ef6706b30cef0669a46aff24f9c495d1a52e7632d03f1ede94cc6bd97fbc190d1cc5d23f1b914a448ea60b42c26f831f321bb7e0e151be887061d3139254\",\n",
    "    set_as_default=True,\n",
    "    # Use `overwrite=True` if you're updating your token.\n",
    "    overwrite=True,\n",
    ")\n",
    " \n",
    "# Load saved credentials\n",
    "service = QiskitRuntimeService()"
   ]
  },
  {
   "cell_type": "code",
   "execution_count": 5,
   "metadata": {},
   "outputs": [
    {
     "data": {
      "text/plain": [
       "('CPU',)"
      ]
     },
     "execution_count": 5,
     "metadata": {},
     "output_type": "execute_result"
    }
   ],
   "source": [
    "backend= AerSimulator()\n",
    "\n",
    "backend.available_devices()\n"
   ]
  },
  {
   "cell_type": "code",
   "execution_count": 6,
   "metadata": {},
   "outputs": [
    {
     "ename": "SyntaxError",
     "evalue": "invalid syntax (732052110.py, line 18)",
     "output_type": "error",
     "traceback": [
      "\u001b[0;36m  Cell \u001b[0;32mIn[6], line 18\u001b[0;36m\u001b[0m\n\u001b[0;31m    pass_manager = generate_preset_pass_manager(backend= ,\u001b[0m\n\u001b[0m                                                         ^\u001b[0m\n\u001b[0;31mSyntaxError\u001b[0m\u001b[0;31m:\u001b[0m invalid syntax\n"
     ]
    }
   ],
   "source": [
    "from vqe_algorithm import cost_func\n",
    "\n",
    "cost_history_dict = {\n",
    "    \"prev_vector\": None,\n",
    "    \"iters\": 0,\n",
    "    \"cost_history\": [],\n",
    "}\n",
    "\n",
    "#init point:\n",
    "x0 = 2 * np.pi * np.random.random(ansatz.num_parameters)\n",
    "\n",
    "backen = AerSimulator()\n",
    "\n",
    "\n",
    "\n",
    "\n",
    "estimado = Estimator(backend= AerSimulator())\n",
    "pass_manager = generate_preset_pass_manager(backend= ,\n",
    "                                            optimization_level= 3)\n",
    "\n",
    "\n",
    "cost_history_list = []\n",
    "res_list = []\n",
    "\n",
    "res = minimize(\n",
    "    cost_func,\n",
    "    x0,\n",
    "    args=(ansatz, \n",
    "          ansatz, \n",
    "          pauli_hamiltonian, \n",
    "          estimado, \n",
    "          pass_manager, \n",
    "          cost_history_dict, \n",
    "          True),\n",
    "    method= 'cobyla',\n",
    "    options={'maxiter' : 400}\n",
    ")\n",
    "\n",
    "res_list.append(res)\n",
    "\n",
    "print(cost_history_list[\"cost_history\"])\n",
    "cost_history_list.append(cost_history_dict[\"cost_history\"])\n",
    "\n"
   ]
  },
  {
   "cell_type": "code",
   "execution_count": null,
   "metadata": {},
   "outputs": [
    {
     "name": "stdout",
     "output_type": "stream",
     "text": [
      "[[array(-0.84923374), array(-1.24516316), array(-1.34857509), array(-0.49951571), array(-1.27432069), array(-1.40290906), array(-1.28682952), array(-1.27502555), array(-1.70820698), array(-1.81412285), array(-1.72996915), array(-1.85491363), array(-1.84966176), array(-1.84666689), array(-1.85224897), array(-1.87181974), array(-1.87451656), array(-1.8423222), array(-1.86004014), array(-1.8825636), array(-1.8766515), array(-1.88544232), array(-1.88816441), array(-1.88075389), array(-1.88584138), array(-1.88421591), array(-1.88863371), array(-1.88106477), array(-1.88435807), array(-1.88088901), array(-1.88742928), array(-1.8866208), array(-1.88354268), array(-1.88781375), array(-1.8908461), array(-1.89142388), array(-1.88790053), array(-1.89301686), array(-1.88019083), array(-1.88867352), array(-1.88420699), array(-1.88299944), array(-1.88462326), array(-1.88819127), array(-1.88757763), array(-1.88993562)]]\n"
     ]
    }
   ],
   "source": [
    "print(cost_history_list)"
   ]
  },
  {
   "cell_type": "code",
   "execution_count": null,
   "metadata": {},
   "outputs": [
    {
     "name": "stdout",
     "output_type": "stream",
     "text": [
      "46\n"
     ]
    },
    {
     "data": {
      "image/png": "[encoded data removed]",
      "text/plain": [
       "<Figure size 640x480 with 1 Axes>"
      ]
     },
     "metadata": {},
     "output_type": "display_data"
    }
   ],
   "source": [
    "fig, ax = plt.subplots()\n",
    "ax.plot(range(cost_history_dict[\"iters\"]), cost_history_dict[\"cost_history\"] )\n",
    "ax.set_xlabel(\"Iterations\")\n",
    "ax.set_ylabel(\"Cost\")\n",
    "plt.draw()\n",
    "\n",
    "print(cost_history_dict['iters'])\n",
    "\n",
    "\n"
   ]
  },
  {
   "cell_type": "code",
   "execution_count": null,
   "metadata": {},
   "outputs": [],
   "source": [
    "distances = np.arange(0.05, 1.5, 0.05)\n",
    "\n",
    "\n",
    "final_energies_AerSim = []\n",
    "for d in distances:\n",
    "    driver = PySCFDriver(atom=f\"H 0 0 0; H 0 0 {d}\", basis=\"sto-3g\")\n",
    "    problem = driver.run()\n",
    "\n",
    "    mapper = JordanWignerMapper()\n",
    "\n",
    "\n",
    "    hamiltonian = problem.hamiltonian.second_q_op()\n",
    "    pauli_hamiltonian = mapper.map(hamiltonian)\n",
    "\n",
    "\n",
    "#then we generate the Ansatz\n",
    "    init_state = HartreeFock(problem.num_spatial_orbitals,\n",
    "                         problem.num_particles,\n",
    "                         mapper)\n",
    "\n",
    "    ansatz = UCCSD(problem.num_spatial_orbitals,\n",
    "               problem.num_particles,\n",
    "               mapper,\n",
    "               initial_state= init_state)\n",
    "    \n",
    "    #initial point x0\n",
    "\n",
    "    x0 = 2 * np.pi * np.random.random(ansatz.num_parameters)\n",
    "    \n",
    "\n",
    "    cost_history_list = []\n",
    "    res_list = []\n",
    "\n",
    "    res = minimize(\n",
    "    cost_func,\n",
    "    x0,\n",
    "    args=(ansatz, \n",
    "          ansatz, \n",
    "          pauli_hamiltonian, \n",
    "          estimado, \n",
    "          pass_manager, \n",
    "          cost_history_dict, \n",
    "          True),\n",
    "    method= 'cobyla',\n",
    "    options={'maxiter' : 400}\n",
    "    )\n",
    "\n",
    "    final_energy = cost_history_dict[\"cost_history\"][-1]\n",
    "\n",
    "    final_energies_AerSim.append(final_energy)\n"
   ]
  },
  {
   "cell_type": "code",
   "execution_count": null,
   "metadata": {},
   "outputs": [
    {
     "name": "stdout",
     "output_type": "stream",
     "text": [
      "6862\n"
     ]
    },
    {
     "data": {
      "image/png": "[encoded data removed]",
      "text/plain": [
       "<Figure size 640x480 with 1 Axes>"
      ]
     },
     "metadata": {},
     "output_type": "display_data"
    }
   ],
   "source": [
    "fig, ax = plt.subplots()\n",
    "ax.scatter(distances, final_energies_AerSim)\n",
    "ax.set_xlabel(r'Intermolecular Distance $\\AA$')\n",
    "ax.set_ylabel(r'Energy (AU)')\n",
    "plt.draw()\n",
    "\n",
    "print(cost_history_dict['iters'])\n"
   ]
  },
  {
   "cell_type": "code",
   "execution_count": null,
   "metadata": {},
   "outputs": [],
   "source": []
  }
 ],
 "metadata": {
  "kernelspec": {
   "display_name": "vqe_venv",
   "language": "python",
   "name": "python3"
  },
  "language_info": {
   "codemirror_mode": {
    "name": "ipython",
    "version": 3
   },
   "file_extension": ".py",
   "mimetype": "text/x-python",
   "name": "python",
   "nbconvert_exporter": "python",
   "pygments_lexer": "ipython3",
   "version": "3.11.9"
  }
 },
 "nbformat": 4,
 "nbformat_minor": 2
}
